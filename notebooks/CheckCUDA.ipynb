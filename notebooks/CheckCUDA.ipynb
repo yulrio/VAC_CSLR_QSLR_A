{
 "cells": [
  {
   "cell_type": "code",
   "execution_count": 1,
   "id": "1e972897-42a5-430c-bcb7-69bcb3e2c256",
   "metadata": {},
   "outputs": [],
   "source": [
    "import torch\n",
    "import torch.nn as nn"
   ]
  },
  {
   "cell_type": "code",
   "execution_count": 2,
   "id": "f9f60890-8de0-4b2e-b1c4-09b028321715",
   "metadata": {},
   "outputs": [
    {
     "name": "stdout",
     "output_type": "stream",
     "text": [
      "Using device: cuda\n",
      "\n",
      "NVIDIA GeForce GTX 1050 Ti\n",
      "Memory Usage:\n",
      "Allocated: 0.0 GB\n",
      "Cached:    0.0 GB\n"
     ]
    }
   ],
   "source": [
    "device = torch.device('cuda' if torch.cuda.is_available() else 'cpu')\n",
    "print('Using device:', device)\n",
    "print()\n",
    "\n",
    "#Additional Info when using cuda\n",
    "if device.type == 'cuda':\n",
    "    print(torch.cuda.get_device_name(0))\n",
    "    print('Memory Usage:')\n",
    "    print('Allocated:', round(torch.cuda.memory_allocated(0)/1024**3,1), 'GB')\n",
    "    print('Cached:   ', round(torch.cuda.memory_reserved(0)/1024**3,1), 'GB')"
   ]
  },
  {
   "cell_type": "code",
   "execution_count": 3,
   "id": "10770fbd-247a-499b-974e-efb882a8433d",
   "metadata": {},
   "outputs": [
    {
     "data": {
      "text/plain": [
       "tensor([0.3052, 0.3646, 0.9616, 0.8369, 0.1835, 0.2586, 0.4948, 0.7437, 0.1510,\n",
       "        0.6535], device='cuda:0')"
      ]
     },
     "execution_count": 3,
     "metadata": {},
     "output_type": "execute_result"
    }
   ],
   "source": [
    "torch.rand(10).to(device)"
   ]
  },
  {
   "cell_type": "code",
   "execution_count": 4,
   "id": "cebc7b82-38b9-4350-8e7c-77b318d68183",
   "metadata": {},
   "outputs": [
    {
     "data": {
      "text/plain": [
       "tensor([0.7494, 0.3391, 0.8133, 0.9431, 0.9373, 0.1029, 0.4724, 0.8632, 0.8041,\n",
       "        0.1318], device='cuda:0')"
      ]
     },
     "execution_count": 4,
     "metadata": {},
     "output_type": "execute_result"
    }
   ],
   "source": [
    "torch.rand(10, device=device)"
   ]
  },
  {
   "cell_type": "code",
   "execution_count": 5,
   "id": "a99bf1fb-70d2-4ed9-a60c-5592545a54da",
   "metadata": {},
   "outputs": [
    {
     "name": "stdout",
     "output_type": "stream",
     "text": [
      "tensor([[ 1.9623, -0.1943]])\n",
      "tensor([[ 0.8509, -2.1497]], device='cuda:0')\n",
      "tensor([[ 1.9623, -0.1943]])\n",
      "False\n",
      "tensor([[ 1.9623, -0.1943]], device='cuda:0')\n",
      "True\n"
     ]
    }
   ],
   "source": [
    "t1 = torch.randn(1,2)\n",
    "t2 = torch.randn(1,2).to(device)\n",
    "print(t1)  # tensor([[-0.2678,  1.9252]])\n",
    "print(t2)  # tensor([[ 0.5117, -3.6247]], device='cuda:0')\n",
    "t1.to(device)\n",
    "print(t1)  # tensor([[-0.2678,  1.9252]])\n",
    "print(t1.is_cuda) # False\n",
    "t1 = t1.to(device)\n",
    "print(t1)  # tensor([[-0.2678,  1.9252]], device='cuda:0')\n",
    "print(t1.is_cuda) # True"
   ]
  },
  {
   "cell_type": "code",
   "execution_count": 6,
   "id": "ee50d799-62a4-457b-ad40-8e4966b2a0c9",
   "metadata": {},
   "outputs": [
    {
     "name": "stdout",
     "output_type": "stream",
     "text": [
      "True\n"
     ]
    }
   ],
   "source": [
    "class M(nn.Module):\n",
    "    def __init__(self):        \n",
    "        super().__init__()        \n",
    "        self.l1 = nn.Linear(1,2)\n",
    "\n",
    "    def forward(self, x):                      \n",
    "        x = self.l1(x)\n",
    "        return x\n",
    "model = M()   # not on cuda\n",
    "model.to(device) # is on cuda (all parameters)\n",
    "print(next(model.parameters()).is_cuda) # True"
   ]
  },
  {
   "cell_type": "code",
   "execution_count": null,
   "id": "bb8b1eb3-7210-473c-89ce-dfcf28a34894",
   "metadata": {},
   "outputs": [],
   "source": []
  }
 ],
 "metadata": {
  "kernelspec": {
   "display_name": "Python 3 (ipykernel)",
   "language": "python",
   "name": "python3"
  },
  "language_info": {
   "codemirror_mode": {
    "name": "ipython",
    "version": 3
   },
   "file_extension": ".py",
   "mimetype": "text/x-python",
   "name": "python",
   "nbconvert_exporter": "python",
   "pygments_lexer": "ipython3",
   "version": "3.10.12"
  }
 },
 "nbformat": 4,
 "nbformat_minor": 5
}
